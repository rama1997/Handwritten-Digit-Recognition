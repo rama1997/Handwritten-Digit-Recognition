{
 "cells": [
  {
   "cell_type": "code",
   "execution_count": null,
   "metadata": {},
   "outputs": [],
   "source": [
    "from __future__ import print_function\n",
    "from sklearn.model_selection import train_test_split\n",
    "from sklearn.neighbors import KNeighborsClassifier\n",
    "from sklearn.metrics import classification_report\n",
    "from yellowbrick.classifier import ClassificationReport\n",
    "from yellowbrick.classifier import ClassPredictionError\n",
    "from sklearn import datasets\n",
    "from skimage import exposure\n",
    "from sklearn.decomposition import PCA\n",
    "from itertools import product\n",
    "from ggplot import *\n",
    "import numpy as np\n",
    "import sklearn\n",
    "import cv2\n",
    "import pandas as pd\n",
    "import matplotlib.pyplot as plt"
   ]
  },
  {
   "cell_type": "code",
   "execution_count": null,
   "metadata": {},
   "outputs": [],
   "source": [
    "# load the MNIST digits dataset\n",
    "from keras.datasets import mnist as MN\n",
    "(X_train, y_train), (X_test, y_test) = MN.load_data()\n",
    "\n",
    "#change shape of training dataset arrays from 3 dimentional array to 2 dimensional array\n",
    "newXtrain = []\n",
    "for x in X_train:\n",
    "    newlist = []\n",
    "    for y in x:\n",
    "        for z in y:\n",
    "            newlist.append(z)\n",
    "    newXtrain.append(newlist)\n",
    "    \n",
    "newXtrain = np.array(newXtrain)\n",
    "X_train = newXtrain\n",
    "\n",
    "#change shape of testing dataset arrays from 3 dimentional array to 2 dimensional array\n",
    "newXtest = []\n",
    "for x in X_test:\n",
    "    newlist = []\n",
    "    for y in x:\n",
    "        for z in y:\n",
    "            newlist.append(z)\n",
    "    newXtest.append(newlist)\n",
    "    \n",
    "newXtest = np.array(newXtest)\n",
    "X_test = newXtest\n",
    "\n",
    "# Take 10% of the training data and use that for validation data\n",
    "(trainData, valData, trainLabels, valLabels) = train_test_split(X_train, y_train, test_size=0.1, random_state=84)"
   ]
  },
  {
   "cell_type": "code",
   "execution_count": null,
   "metadata": {},
   "outputs": [],
   "source": [
    "# initialize the testing values of k\n",
    "startK = 1\n",
    "endK = 15\n",
    "kInt = 2\n",
    "kVals = range(startK, endK, kInt)\n",
    "accuracies = []\n",
    "\n",
    "#configure how many of the 60000 train data to use\n",
    "#currently using a smaller subset of 2000 \n",
    "datasize = 100\n",
    "\n",
    "# external code from \n",
    "# gurus.pyimagesearch.com/lesson-sample-k-nearest-neighbor-classification\n",
    "# loop over various values of k for the k-Nearest Neighbor classifier\n",
    "print(\"From k = \" + str(startK) + \" to k = \" + str(endK) + \" with interval of \" + str(kInt))\n",
    "print(\"Using datasize of \" + str(datasize) + \"/60000\")\n",
    "for k in range(startK, endK, kInt):\n",
    "          # train the k-Nearest Neighbor classifier with the current value of `k` and evaluate\n",
    "          model = KNeighborsClassifier(n_neighbors=k)\n",
    "          model.fit(trainData[:datasize], trainLabels[:datasize])\n",
    "          #calculate accuracy\n",
    "          score = model.score(valData, valLabels)\n",
    "          print(\"k=%d, accuracy=%.2f%%\" % (k, score * 100))\n",
    "          #store accuracy\n",
    "          accuracies.append(score)\n",
    "          \n",
    "# find the value of k that has the largest accuracy\n",
    "i = np.argmax(accuracies)\n",
    "print(\"k=%d achieved highest accuracy of %.2f%% on validation data\" % (kVals[i],accuracies[i] * 100))"
   ]
  },
  {
   "cell_type": "code",
   "execution_count": null,
   "metadata": {
    "collapsed": true
   },
   "outputs": [],
   "source": [
    "# external code from \n",
    "# gurus.pyimagesearch.com/lesson-sample-k-nearest-neighbor-classification\n",
    "# re-train our classifier using the best k value and predict the labels of the test data\n",
    "model = KNeighborsClassifier(n_neighbors=kVals[i])\n",
    "model.fit(trainData[:datasize], trainLabels[:datasize])\n",
    "predictions = model.predict(X_test)"
   ]
  },
  {
   "cell_type": "code",
   "execution_count": null,
   "metadata": {},
   "outputs": [],
   "source": [
    "# show classification reports demonstrating the accuracy of the classifier for each of the digits\n",
    "print(classification_report(y_test, predictions))\n",
    "\n",
    "model = KNeighborsClassifier(n_neighbors=kVals[i])\n",
    "visualizer = ClassificationReport(model, support=True)\n",
    "visualizer.fit(trainData[:datasize], trainLabels[:datasize])\n",
    "visualizer.score(X_test, y_test)\n",
    "g = visualizer.poof() "
   ]
  },
  {
   "cell_type": "code",
   "execution_count": null,
   "metadata": {},
   "outputs": [],
   "source": [
    "#class prediction error plot\n",
    "model = KNeighborsClassifier(n_neighbors=kVals[i])\n",
    "visualizer = ClassPredictionError(model, support = True)\n",
    "visualizer.fit(trainData[:datasize], trainLabels[:datasize])\n",
    "visualizer.score(X_test, y_test)\n",
    "g = visualizer.poof() "
   ]
  },
  {
   "cell_type": "code",
   "execution_count": null,
   "metadata": {
    "collapsed": true
   },
   "outputs": [],
   "source": [
    "#external code from\n",
    "#gist.github.com/amueller/4299381\n",
    "#plot pairs pca plots\n",
    "X_train, y_train = trainData[:datasize], trainLabels[:datasize] \n",
    "pca = PCA(n_components=2)\n",
    "fig, plots = plt.subplots(10, 10)\n",
    "fig.set_size_inches(50, 50)\n",
    "plt.prism()\n",
    "for i, j in product(range(10), repeat=2):\n",
    "    if i > j:\n",
    "        continue\n",
    "    X_ = X_train[(y_train == i) + (y_train == j)]\n",
    "    y_ = y_train[(y_train == i) + (y_train == j)]\n",
    "    X_transformed = pca.fit_transform(X_)\n",
    "    plots[i, j].scatter(X_transformed[:, 0], X_transformed[:, 1], c=y_)\n",
    "    plots[i, j].set_xticks(())\n",
    "    plots[i, j].set_yticks(())\n",
    "  \n",
    "    plots[j, i].scatter(X_transformed[:, 0], X_transformed[:, 1], c=y_)\n",
    "    plots[j, i].set_xticks(())\n",
    "    plots[j, i].set_yticks(())\n",
    "    if i == 0:\n",
    "        plots[i, j].set_title(j)\n",
    "        plots[j, i].set_ylabel(j)\n",
    "    \n",
    "plt.tight_layout()\n",
    "plt.savefig(\"mnist_pairs.png\")"
   ]
  },
  {
   "cell_type": "code",
   "execution_count": null,
   "metadata": {
    "collapsed": true
   },
   "outputs": [],
   "source": []
  }
 ],
 "metadata": {
  "kernelspec": {
   "display_name": "Python 3",
   "language": "python",
   "name": "python3"
  },
  "language_info": {
   "codemirror_mode": {
    "name": "ipython",
    "version": 3
   },
   "file_extension": ".py",
   "mimetype": "text/x-python",
   "name": "python",
   "nbconvert_exporter": "python",
   "pygments_lexer": "ipython3",
   "version": "3.6.1"
  }
 },
 "nbformat": 4,
 "nbformat_minor": 2
}
